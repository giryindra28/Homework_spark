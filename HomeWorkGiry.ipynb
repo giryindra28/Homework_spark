{
 "cells": [
  {
   "cell_type": "markdown",
   "id": "ac18bd34-a00b-4602-985b-6b1e71068554",
   "metadata": {
    "tags": []
   },
   "source": [
    "## Import Library"
   ]
  },
  {
   "cell_type": "code",
   "execution_count": 15,
   "id": "13c0b952-81d5-4111-8b3f-2b66b043cc2b",
   "metadata": {
    "tags": []
   },
   "outputs": [],
   "source": [
    "from pyspark.sql import SparkSession\n",
    "from pyspark.sql import Row"
   ]
  },
  {
   "cell_type": "markdown",
   "id": "c51fadc4-9adb-4376-8b38-f0d6fe634112",
   "metadata": {},
   "source": [
    "## Create spark session"
   ]
  },
  {
   "cell_type": "code",
   "execution_count": 2,
   "id": "b696218f-cf04-4486-97b6-0084eafe29d6",
   "metadata": {
    "tags": []
   },
   "outputs": [],
   "source": [
    "#Create a spark session\n",
    "spark = SparkSession.builder.appName(\"SparkSQL\").getOrCreate()"
   ]
  },
  {
   "cell_type": "markdown",
   "id": "502fac87-04d1-486e-a118-b987ea6bef5d",
   "metadata": {},
   "source": [
    "## Extract csv data to data frame"
   ]
  },
  {
   "cell_type": "code",
   "execution_count": 3,
   "id": "7b949b45-0e34-4f06-bc60-7afebae375e9",
   "metadata": {
    "tags": []
   },
   "outputs": [
    {
     "name": "stdout",
     "output_type": "stream",
     "text": [
      "Here is our inferred schema:\n",
      "root\n",
      " |-- dispatching_base_num: string (nullable = true)\n",
      " |-- pickup_datetime: string (nullable = true)\n",
      " |-- dropOff_datetime: string (nullable = true)\n",
      " |-- PUlocationID: string (nullable = true)\n",
      " |-- DOlocationID: string (nullable = true)\n",
      " |-- SR_Flag: string (nullable = true)\n",
      " |-- Affiliated_base_number: string (nullable = true)\n",
      "\n"
     ]
    }
   ],
   "source": [
    "df = spark.read.option(\"header\",\"true\").option(\"interSchema\",\"true\")\\\n",
    "    .csv(\"fhv_tripdata_2019-01.csv\")\n",
    "print(\"Here is our inferred schema:\")\n",
    "df.printSchema()"
   ]
  },
  {
   "cell_type": "code",
   "execution_count": 4,
   "id": "1b8955de-95d0-4e4f-9d51-c69db9f12964",
   "metadata": {
    "tags": []
   },
   "outputs": [
    {
     "name": "stdout",
     "output_type": "stream",
     "text": [
      "+--------------------+-------------------+-------------------+------------+------------+-------+----------------------+\n",
      "|dispatching_base_num|    pickup_datetime|   dropOff_datetime|PUlocationID|DOlocationID|SR_Flag|Affiliated_base_number|\n",
      "+--------------------+-------------------+-------------------+------------+------------+-------+----------------------+\n",
      "|              B00001|2019-01-01 00:30:00|2019-01-01 02:51:55|        null|        null|   null|                B00001|\n",
      "|              B00001|2019-01-01 00:45:00|2019-01-01 00:54:49|        null|        null|   null|                B00001|\n",
      "|              B00001|2019-01-01 00:15:00|2019-01-01 00:54:52|        null|        null|   null|                B00001|\n",
      "|              B00008|2019-01-01 00:19:00|2019-01-01 00:39:00|        null|        null|   null|                B00008|\n",
      "|              B00008|2019-01-01 00:27:00|2019-01-01 00:37:00|        null|        null|   null|                B00008|\n",
      "|              B00008|2019-01-01 00:48:00|2019-01-01 01:02:00|        null|        null|   null|                B00008|\n",
      "|              B00008|2019-01-01 00:50:00|2019-01-01 00:59:00|        null|        null|   null|                B00008|\n",
      "|              B00008|2019-01-01 00:51:00|2019-01-01 00:56:00|        null|        null|   null|                B00008|\n",
      "|              B00009|2019-01-01 00:44:00|2019-01-01 00:58:00|        null|        null|   null|                B00009|\n",
      "|              B00009|2019-01-01 00:19:00|2019-01-01 00:36:00|        null|        null|   null|                B00009|\n",
      "|              B00009|2019-01-01 00:36:00|2019-01-01 00:49:00|        null|        null|   null|                B00009|\n",
      "|              B00009|2019-01-01 00:26:00|2019-01-01 00:32:00|        null|        null|   null|                B00009|\n",
      "|              B00009|2019-01-01 00:26:00|2019-01-01 00:36:00|        null|        null|   null|                B00009|\n",
      "|              B00009|2019-01-01 00:58:00|2019-01-01 01:05:00|        null|        null|   null|                B00009|\n",
      "|              B00013|2019-01-01 00:02:29|2019-01-02 00:25:30|        null|        null|   null|                B00013|\n",
      "|              B00013|2019-01-01 00:01:33|2019-01-02 00:18:16|        null|        null|   null|                B00013|\n",
      "|              B00037|2019-01-01 00:02:43|2019-01-01 00:10:14|        null|         265|   null|                B00037|\n",
      "|              B00037|2019-01-01 00:26:02|2019-01-01 00:37:00|        null|         265|   null|                B00037|\n",
      "|              B00037|2019-01-01 00:11:16|2019-01-01 00:25:41|        null|         265|   null|                B00037|\n",
      "|              B00037|2019-01-01 00:33:45|2019-01-01 00:45:28|        null|         265|   null|                B00037|\n",
      "+--------------------+-------------------+-------------------+------------+------------+-------+----------------------+\n",
      "only showing top 20 rows\n",
      "\n"
     ]
    }
   ],
   "source": [
    "df.show()"
   ]
  },
  {
   "cell_type": "markdown",
   "id": "09339625-d04d-460f-9b66-b9dfeb01dc4a",
   "metadata": {},
   "source": [
    "## Create Temporary Table in order can run SQL in spark "
   ]
  },
  {
   "cell_type": "code",
   "execution_count": 5,
   "id": "df7018cb-9fe0-4311-922e-b5a58c4ad89c",
   "metadata": {
    "tags": []
   },
   "outputs": [],
   "source": [
    "df.createOrReplaceTempView(\"tripData\")"
   ]
  },
  {
   "cell_type": "markdown",
   "id": "f301a5e8-18d7-43eb-934e-fe3a08f854ea",
   "metadata": {},
   "source": [
    "## Filter data dengan pickup_datetime mulai dari 1 Jan 2019 sampai 10 Jan 2019"
   ]
  },
  {
   "cell_type": "code",
   "execution_count": 6,
   "id": "d49cb051-f94a-4bea-83e0-7ec3694262a2",
   "metadata": {
    "tags": []
   },
   "outputs": [
    {
     "name": "stdout",
     "output_type": "stream",
     "text": [
      "+--------------------+-------------------+-------------------+------------+------------+-------+----------------------+\n",
      "|dispatching_base_num|    pickup_datetime|   dropOff_datetime|PUlocationID|DOlocationID|SR_Flag|Affiliated_base_number|\n",
      "+--------------------+-------------------+-------------------+------------+------------+-------+----------------------+\n",
      "|              B00254|2019-01-01 00:33:03|2019-01-01 01:37:24|         140|          52|   null|                B02356|\n",
      "|              B00254|2019-01-01 00:03:00|2019-01-01 00:34:25|         141|         237|   null|                B00254|\n",
      "|              B00254|2019-01-01 00:45:48|2019-01-01 01:26:01|         237|         236|   null|                B00254|\n",
      "|              B00254|2019-01-01 00:37:39|2019-01-01 01:44:59|         162|          85|   null|                B00254|\n",
      "|              B00254|2019-01-01 00:35:06|2019-01-01 01:30:21|         237|         246|   null|                B00254|\n",
      "|              B00254|2019-01-01 00:55:23|2019-01-01 01:48:27|         145|         224|   null|                B02882|\n",
      "|              B00254|2019-01-01 00:49:23|2019-01-01 01:38:38|         261|          14|   null|                B02994|\n",
      "|              B00254|2019-01-01 00:11:10|2019-01-01 00:44:31|         162|         233|   null|                B00254|\n",
      "|              B00254|2019-01-01 00:00:06|2019-01-01 00:32:21|          13|          87|   null|                B00254|\n",
      "|              B00254|2019-01-01 00:36:32|2019-01-01 01:35:54|         249|         236|   null|                B00254|\n",
      "|              B00254|2019-01-01 00:15:15|2019-01-01 00:54:49|         236|         229|   null|                B00254|\n",
      "|              B00445|2019-01-01 00:32:02|2019-01-01 00:56:51|         145|          16|   null|                B00445|\n",
      "|              B00445|2019-01-01 00:25:50|2019-01-01 00:33:58|         171|          15|   null|                B00445|\n",
      "|              B00445|2019-01-01 00:45:47|2019-01-01 01:03:04|         252|          82|   null|                B00445|\n",
      "|              B00445|2019-01-01 00:36:25|2019-01-01 01:00:17|         265|          92|   null|                B00445|\n",
      "|              B00445|2019-01-01 00:53:37|2019-01-01 01:37:09|         229|          15|   null|                B00445|\n",
      "|              B00445|2019-01-01 00:36:15|2019-01-01 00:48:39|         171|          16|   null|                B00445|\n",
      "|              B00445|2019-01-01 00:28:34|2019-01-01 00:39:40|          16|         252|   null|                B00445|\n",
      "|              B00445|2019-01-01 00:12:32|2019-01-01 00:12:36|         252|          70|   null|                B00445|\n",
      "|              B00445|2019-01-01 00:45:07|2019-01-01 01:03:57|         265|         252|   null|                B00445|\n",
      "+--------------------+-------------------+-------------------+------------+------------+-------+----------------------+\n",
      "only showing top 20 rows\n",
      "\n"
     ]
    }
   ],
   "source": [
    "trip_sql = spark.sql(\"SELECT * FROM tripData WHERE PUlocationID is not null AND DOlocationID is not null\\\n",
    "    AND pickup_datetime >= '2019-01-01 00:00:00' AND pickup_datetime <= '2019-10-01 23:59:00'\")\n",
    "trip_sql.show()"
   ]
  },
  {
   "cell_type": "code",
   "execution_count": null,
   "id": "11f2d075-9ca2-4861-bfab-afb05ac4b8c1",
   "metadata": {
    "tags": []
   },
   "outputs": [],
   "source": [
    "trip_pandas = trip_sql.toPandas()\n",
    "\n"
   ]
  },
  {
   "cell_type": "markdown",
   "id": "ad6ebd0b-eedd-442e-86a8-ae9b5259cf17",
   "metadata": {},
   "source": [
    "## Export Data to parquet and json"
   ]
  },
  {
   "cell_type": "code",
   "execution_count": 12,
   "id": "a0e2733d-7b13-4c23-b72f-91b9531a0961",
   "metadata": {
    "tags": []
   },
   "outputs": [],
   "source": [
    "trip_sql.write.parquet(\"trip_parquet.parquet\")"
   ]
  },
  {
   "cell_type": "code",
   "execution_count": 10,
   "id": "27b3a915-fd5f-459b-8905-c855b3edea88",
   "metadata": {
    "tags": []
   },
   "outputs": [],
   "source": [
    "trip_sql.write.json(\"trip_json.json\")"
   ]
  },
  {
   "cell_type": "markdown",
   "id": "340f7952-9423-4999-87be-554192b1a643",
   "metadata": {},
   "source": [
    "## READ "
   ]
  },
  {
   "cell_type": "code",
   "execution_count": 14,
   "id": "d32b2595-8761-403c-b736-6d9e4aba42be",
   "metadata": {
    "tags": []
   },
   "outputs": [
    {
     "name": "stdout",
     "output_type": "stream",
     "text": [
      "+--------------------+-------------------+-------------------+------------+------------+-------+----------------------+\n",
      "|dispatching_base_num|    pickup_datetime|   dropOff_datetime|PUlocationID|DOlocationID|SR_Flag|Affiliated_base_number|\n",
      "+--------------------+-------------------+-------------------+------------+------------+-------+----------------------+\n",
      "|              B02872|2019-01-10 20:37:03|2019-01-10 20:41:47|         121|         135|   null|                B02872|\n",
      "|              B02872|2019-01-10 20:49:30|2019-01-10 21:00:32|         135|          98|      1|                B02872|\n",
      "|              B02872|2019-01-10 20:54:42|2019-01-10 21:05:30|         192|         175|      2|                B02872|\n",
      "|              B02872|2019-01-10 20:01:53|2019-01-10 20:47:28|          96|          85|      3|                B02872|\n",
      "|              B02872|2019-01-10 20:11:17|2019-01-10 20:38:44|          63|         188|      4|                B02872|\n",
      "|              B02872|2019-01-10 20:24:51|2019-01-10 20:42:28|          61|          85|      5|                B02872|\n",
      "|              B02872|2019-01-10 20:17:56|2019-01-10 20:26:04|          90|         114|   null|                B02872|\n",
      "|              B02872|2019-01-10 20:29:06|2019-01-10 20:45:37|         114|          68|      1|                B02872|\n",
      "|              B02872|2019-01-10 20:37:54|2019-01-10 20:55:16|         249|         170|      2|                B02872|\n",
      "|              B02872|2019-01-10 20:43:09|2019-01-10 21:27:26|         138|         265|   null|                B02872|\n",
      "|              B02872|2019-01-10 20:30:06|2019-01-10 20:51:14|         211|         181|   null|                B02872|\n",
      "|              B02872|2019-01-10 20:17:33|2019-01-10 20:30:11|         168|         159|      1|                B02872|\n",
      "|              B02872|2019-01-10 20:18:57|2019-01-10 20:27:25|         168|          69|      2|                B02872|\n",
      "|              B02872|2019-01-10 20:35:14|2019-01-10 20:46:17|         256|          17|   null|                B02872|\n",
      "|              B02872|2019-01-10 20:07:35|2019-01-10 20:16:40|         211|         158|   null|                B02872|\n",
      "|              B02872|2019-01-10 20:33:58|2019-01-10 20:58:34|         158|         140|   null|                B02872|\n",
      "|              B02872|2019-01-10 20:01:44|2019-01-10 20:12:15|         246|         100|   null|                B02872|\n",
      "|              B02872|2019-01-10 20:17:53|2019-01-10 21:10:21|         230|          89|      1|                B02872|\n",
      "|              B02872|2019-01-10 20:29:21|2019-01-10 20:40:20|          68|         231|      2|                B02872|\n",
      "|              B02872|2019-01-10 20:07:57|2019-01-10 20:13:52|          68|          48|   null|                B02872|\n",
      "+--------------------+-------------------+-------------------+------------+------------+-------+----------------------+\n",
      "only showing top 20 rows\n",
      "\n"
     ]
    }
   ],
   "source": [
    "read_parquet = spark.read.parquet(\"trip_parquet.parquet\")\n",
    "read_parquet.show()"
   ]
  },
  {
   "cell_type": "code",
   "execution_count": null,
   "id": "ea274369-ba51-4ed0-b119-b0b4de5c879d",
   "metadata": {},
   "outputs": [],
   "source": []
  }
 ],
 "metadata": {
  "kernelspec": {
   "display_name": "Python 3 (ipykernel)",
   "language": "python",
   "name": "python3"
  },
  "language_info": {
   "codemirror_mode": {
    "name": "ipython",
    "version": 3
   },
   "file_extension": ".py",
   "mimetype": "text/x-python",
   "name": "python",
   "nbconvert_exporter": "python",
   "pygments_lexer": "ipython3",
   "version": "3.10.9"
  }
 },
 "nbformat": 4,
 "nbformat_minor": 5
}
